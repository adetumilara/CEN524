{
 "cells": [
  {
   "cell_type": "code",
   "execution_count": 30,
   "id": "f0280b53-1c50-4b34-82d3-cafa905460c4",
   "metadata": {},
   "outputs": [],
   "source": [
    "# Import required libraries\n",
    "import tensorflow as tf\n",
    "from sklearn.datasets import load_iris\n",
    "from sklearn.model_selection import train_test_split\n",
    "from sklearn.preprocessing import StandardScaler\n",
    "from sklearn.metrics import accuracy_score, confusion_matrix\n",
    "import pandas as pd\n",
    "\n"
   ]
  },
  {
   "cell_type": "code",
   "execution_count": 31,
   "id": "20840c5b-cfde-41a9-8fce-f813f57ef2b4",
   "metadata": {},
   "outputs": [],
   "source": [
    "# Load Iris dataset\n",
    "iris = datasets.load_iris()\n"
   ]
  },
  {
   "cell_type": "code",
   "execution_count": 32,
   "id": "efc0b0d0-1ae0-4dbc-9adc-ecbe95896ffe",
   "metadata": {},
   "outputs": [],
   "source": [
    "# Convert data and target into a data frame\n",
    "# Extract the First 100 Features\n",
    "X = pd.DataFrame(data=iris.data[:100, :], columns=iris.feature_names)\n",
    "y = pd.DataFrame(data=iris.target[:100], columns=['irisType'])\n",
    "\n"
   ]
  },
  {
   "cell_type": "code",
   "execution_count": 33,
   "id": "6a5222d4-16e1-4f48-94af-099bd2a7031f",
   "metadata": {},
   "outputs": [],
   "source": [
    "# Split the dataset into training and testing sets\n",
    "X_train, X_test, y_train, y_test = train_test_split(X, y, test_size=0.2, random_state=42)\n",
    "\n"
   ]
  },
  {
   "cell_type": "code",
   "execution_count": 34,
   "id": "ed43d930-0b69-4eeb-9be3-7c5ad540a8ff",
   "metadata": {},
   "outputs": [],
   "source": [
    "# Standardize the data\n",
    "scaler = StandardScaler()\n",
    "X_train = scaler.fit_transform(X_train)\n",
    "X_test = scaler.transform(X_test)\n",
    "\n"
   ]
  },
  {
   "cell_type": "code",
   "execution_count": 35,
   "id": "1a8bd315-9407-4380-b9b4-ede8b033ed37",
   "metadata": {},
   "outputs": [],
   "source": [
    "# Convert targets to categorical (one-hot encoding)\n",
    "y_train = tf.keras.utils.to_categorical(y_train, num_classes=3)\n",
    "y_test = tf.keras.utils.to_categorical(y_test, num_classes=3)"
   ]
  },
  {
   "cell_type": "code",
   "execution_count": 36,
   "id": "d50dc95b-8cea-432b-a7b2-ca6bc0a93cc3",
   "metadata": {},
   "outputs": [],
   "source": [
    "# Define the Perceptron model using a single dense layer\n",
    "model = tf.keras.Sequential([\n",
    "    tf.keras.layers.Dense(3, activation='softmax', input_shape=(X_train.shape[1],))\n",
    "])\n",
    "\n"
   ]
  },
  {
   "cell_type": "code",
   "execution_count": 37,
   "id": "38135e9d-fa74-4c10-a916-b1a9bdcd5d75",
   "metadata": {},
   "outputs": [],
   "source": [
    "# Compile the model\n",
    "model.compile(optimizer='adam', loss='categorical_crossentropy', metrics=['accuracy'])"
   ]
  },
  {
   "cell_type": "code",
   "execution_count": 38,
   "id": "a43a69a6-995b-434c-a6a5-79d1c8ef1242",
   "metadata": {},
   "outputs": [
    {
     "name": "stdout",
     "output_type": "stream",
     "text": [
      "Epoch 1/50\n",
      "80/80 [==============================] - 2s 4ms/step - loss: 2.0438 - accuracy: 0.0625\n",
      "Epoch 2/50\n",
      "80/80 [==============================] - 0s 5ms/step - loss: 1.7143 - accuracy: 0.1250\n",
      "Epoch 3/50\n",
      "80/80 [==============================] - 0s 4ms/step - loss: 1.4249 - accuracy: 0.2125\n",
      "Epoch 4/50\n",
      "80/80 [==============================] - 0s 4ms/step - loss: 1.1783 - accuracy: 0.3375\n",
      "Epoch 5/50\n",
      "80/80 [==============================] - 0s 3ms/step - loss: 0.9716 - accuracy: 0.5000\n",
      "Epoch 6/50\n",
      "80/80 [==============================] - 0s 3ms/step - loss: 0.8019 - accuracy: 0.6250\n",
      "Epoch 7/50\n",
      "80/80 [==============================] - 0s 3ms/step - loss: 0.6640 - accuracy: 0.7500\n",
      "Epoch 8/50\n",
      "80/80 [==============================] - 0s 3ms/step - loss: 0.5544 - accuracy: 0.8875\n",
      "Epoch 9/50\n",
      "80/80 [==============================] - 0s 3ms/step - loss: 0.4666 - accuracy: 0.9375\n",
      "Epoch 10/50\n",
      "80/80 [==============================] - 0s 3ms/step - loss: 0.3967 - accuracy: 0.9750\n",
      "Epoch 11/50\n",
      "80/80 [==============================] - 0s 3ms/step - loss: 0.3406 - accuracy: 0.9750\n",
      "Epoch 12/50\n",
      "80/80 [==============================] - 0s 3ms/step - loss: 0.2953 - accuracy: 0.9750\n",
      "Epoch 13/50\n",
      "80/80 [==============================] - 0s 3ms/step - loss: 0.2581 - accuracy: 1.0000\n",
      "Epoch 14/50\n",
      "80/80 [==============================] - 0s 3ms/step - loss: 0.2275 - accuracy: 1.0000\n",
      "Epoch 15/50\n",
      "80/80 [==============================] - 0s 3ms/step - loss: 0.2020 - accuracy: 1.0000\n",
      "Epoch 16/50\n",
      "80/80 [==============================] - 0s 4ms/step - loss: 0.1806 - accuracy: 1.0000\n",
      "Epoch 17/50\n",
      "80/80 [==============================] - 0s 4ms/step - loss: 0.1626 - accuracy: 1.0000\n",
      "Epoch 18/50\n",
      "80/80 [==============================] - 0s 3ms/step - loss: 0.1470 - accuracy: 1.0000\n",
      "Epoch 19/50\n",
      "80/80 [==============================] - 0s 3ms/step - loss: 0.1336 - accuracy: 1.0000\n",
      "Epoch 20/50\n",
      "80/80 [==============================] - 0s 3ms/step - loss: 0.1219 - accuracy: 1.0000\n",
      "Epoch 21/50\n",
      "80/80 [==============================] - 0s 3ms/step - loss: 0.1117 - accuracy: 1.0000\n",
      "Epoch 22/50\n",
      "80/80 [==============================] - 0s 3ms/step - loss: 0.1026 - accuracy: 1.0000\n",
      "Epoch 23/50\n",
      "80/80 [==============================] - 0s 3ms/step - loss: 0.0947 - accuracy: 1.0000\n",
      "Epoch 24/50\n",
      "80/80 [==============================] - 0s 3ms/step - loss: 0.0876 - accuracy: 1.0000\n",
      "Epoch 25/50\n",
      "80/80 [==============================] - 0s 3ms/step - loss: 0.0813 - accuracy: 1.0000\n",
      "Epoch 26/50\n",
      "80/80 [==============================] - 0s 3ms/step - loss: 0.0756 - accuracy: 1.0000\n",
      "Epoch 27/50\n",
      "80/80 [==============================] - 0s 3ms/step - loss: 0.0704 - accuracy: 1.0000\n",
      "Epoch 28/50\n",
      "80/80 [==============================] - 0s 3ms/step - loss: 0.0658 - accuracy: 1.0000\n",
      "Epoch 29/50\n",
      "80/80 [==============================] - 0s 3ms/step - loss: 0.0616 - accuracy: 1.0000\n",
      "Epoch 30/50\n",
      "80/80 [==============================] - 0s 3ms/step - loss: 0.0577 - accuracy: 1.0000\n",
      "Epoch 31/50\n",
      "80/80 [==============================] - 0s 3ms/step - loss: 0.0542 - accuracy: 1.0000\n",
      "Epoch 32/50\n",
      "80/80 [==============================] - 0s 3ms/step - loss: 0.0510 - accuracy: 1.0000\n",
      "Epoch 33/50\n",
      "80/80 [==============================] - 0s 4ms/step - loss: 0.0480 - accuracy: 1.0000\n",
      "Epoch 34/50\n",
      "80/80 [==============================] - 0s 3ms/step - loss: 0.0452 - accuracy: 1.0000\n",
      "Epoch 35/50\n",
      "80/80 [==============================] - 0s 4ms/step - loss: 0.0427 - accuracy: 1.0000\n",
      "Epoch 36/50\n",
      "80/80 [==============================] - 0s 3ms/step - loss: 0.0403 - accuracy: 1.0000\n",
      "Epoch 37/50\n",
      "80/80 [==============================] - 0s 4ms/step - loss: 0.0382 - accuracy: 1.0000\n",
      "Epoch 38/50\n",
      "80/80 [==============================] - 0s 3ms/step - loss: 0.0361 - accuracy: 1.0000\n",
      "Epoch 39/50\n",
      "80/80 [==============================] - 0s 3ms/step - loss: 0.0343 - accuracy: 1.0000\n",
      "Epoch 40/50\n",
      "80/80 [==============================] - 0s 3ms/step - loss: 0.0325 - accuracy: 1.0000\n",
      "Epoch 41/50\n",
      "80/80 [==============================] - 0s 3ms/step - loss: 0.0309 - accuracy: 1.0000\n",
      "Epoch 42/50\n",
      "80/80 [==============================] - 0s 3ms/step - loss: 0.0293 - accuracy: 1.0000\n",
      "Epoch 43/50\n",
      "80/80 [==============================] - 0s 3ms/step - loss: 0.0279 - accuracy: 1.0000\n",
      "Epoch 44/50\n",
      "80/80 [==============================] - 0s 3ms/step - loss: 0.0265 - accuracy: 1.0000\n",
      "Epoch 45/50\n",
      "80/80 [==============================] - 0s 3ms/step - loss: 0.0253 - accuracy: 1.0000\n",
      "Epoch 46/50\n",
      "80/80 [==============================] - 0s 3ms/step - loss: 0.0241 - accuracy: 1.0000\n",
      "Epoch 47/50\n",
      "80/80 [==============================] - 0s 5ms/step - loss: 0.0230 - accuracy: 1.0000\n",
      "Epoch 48/50\n",
      "80/80 [==============================] - 0s 4ms/step - loss: 0.0219 - accuracy: 1.0000\n",
      "Epoch 49/50\n",
      "80/80 [==============================] - 0s 3ms/step - loss: 0.0209 - accuracy: 1.0000\n",
      "Epoch 50/50\n",
      "80/80 [==============================] - 0s 4ms/step - loss: 0.0200 - accuracy: 1.0000\n"
     ]
    },
    {
     "data": {
      "text/plain": [
       "<keras.callbacks.History at 0x1e9e9293a60>"
      ]
     },
     "execution_count": 38,
     "metadata": {},
     "output_type": "execute_result"
    }
   ],
   "source": [
    "# Train the model\n",
    "model.fit(X_train, y_train, epochs=50, batch_size=1, verbose=1)\n"
   ]
  },
  {
   "cell_type": "code",
   "execution_count": 39,
   "id": "b6d62d89-a27b-4bb8-8855-85054c8f6f2b",
   "metadata": {},
   "outputs": [
    {
     "name": "stdout",
     "output_type": "stream",
     "text": [
      "1/1 [==============================] - 0s 418ms/step\n"
     ]
    }
   ],
   "source": [
    "# Make predictions on the test set\n",
    "y_pred = model.predict(X_test)\n",
    "y_pred_classes = y_pred.argmax(axis=1)\n",
    "y_test_classes = y_test.argmax(axis=1)\n"
   ]
  },
  {
   "cell_type": "code",
   "execution_count": 40,
   "id": "7bac5175-4577-4fde-8541-f56e2f96e03b",
   "metadata": {},
   "outputs": [
    {
     "name": "stdout",
     "output_type": "stream",
     "text": [
      "Accuracy: 1.0\n"
     ]
    }
   ],
   "source": [
    "# Calculate accuracy of the classifier\n",
    "accuracy = accuracy_score(y_test_classes, y_pred_classes)\n",
    "print(\"Accuracy:\", accuracy)"
   ]
  },
  {
   "cell_type": "code",
   "execution_count": 41,
   "id": "24e1b4c5-1fcc-4519-8957-19a809ddc4bd",
   "metadata": {},
   "outputs": [
    {
     "name": "stdout",
     "output_type": "stream",
     "text": [
      "Perceptron Confusion Matrix:\n",
      " [[12  0]\n",
      " [ 0  8]]\n"
     ]
    }
   ],
   "source": [
    "# Generate the Confusion Matrix\n",
    "print(\"Perceptron Confusion Matrix:\\n\", confusion_matrix(y_test_classes, y_pred_classes))"
   ]
  }
 ],
 "metadata": {
  "kernelspec": {
   "display_name": "Python 3 (ipykernel)",
   "language": "python",
   "name": "python3"
  },
  "language_info": {
   "codemirror_mode": {
    "name": "ipython",
    "version": 3
   },
   "file_extension": ".py",
   "mimetype": "text/x-python",
   "name": "python",
   "nbconvert_exporter": "python",
   "pygments_lexer": "ipython3",
   "version": "3.10.13"
  }
 },
 "nbformat": 4,
 "nbformat_minor": 5
}
